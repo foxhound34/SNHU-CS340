# DASH Framework for Jupyter
from jupyter_dash import JupyterDash
from dash import dcc
from dash import html
from dash.dependencies import Input, Output

# URL Lib to make sure that our input is 'sane'
import urllib.parse

#TODO: import for your CRUD module
from animalShelter import AnimalShelter

# Build App
app = JupyterDash(__name__)
app.layout = html.Div([
    # This element generates an HTML Heading with your name
    html.H1("Module 5 Asssignment - Derek Bamford"),
    # This Input statement sets up an Input field for the username.
    dcc.Input(
            id="input_user".format("text"),
            type="text",
            placeholder="input type {}".format("text")),
    # This Input statement sets up an Input field for the password.
    # This designation masks the user input on the screen.
    dcc.Input(
            id="input_passwd".format("password"),
            type="password",
            placeholder="input type {}".format("password")),
    # Create a button labeled 'Submit'. When the button is pressed
    # the n_clicks value will increment by 1. 
    html.Button('Submit', id='submit-val', n_clicks=0),
    # Generate a horizontal line separating our input from our
    # output element
    html.Hr(),
    # This sets up the output element for the dashboard. The
    # purpose of the stlye option is to make sure that the 
    # output will function like a regular text area and accept
    # newline ('\n') characters as line-breaks.
    html.Div(id="query-out", style={'whiteSpace': 'pre-line'}),
    
    #TODO: insert unique identifier code here. Please Note: 
    # when you insert another HTML element here, you will need to 
    # add a comma to the previous line.
    html.H3("Derek Bamford-SNHU CS340- MongoDB Authentication"),
    
])

# Define callback to update output-block
# NOTE: While the name of the callback function doesn't matter,
# the order of the parameters in the callback function are the
# same as the order of Input methods in the @app.callback
# For the callback function below, the callback is grabing the
# information from the input_user and input_password entries, and
# then the value of the submit button (has it been pressed?)
@app.callback(
    Output('query-out', 'children'),
    [Input('input_user', 'value'),
     Input('input_passwd', 'value'),
    Input(component_id='submit-val', component_property='n_clicks')]
)
def update_figure(inputUser,inputPass,n_clicks):
    # This is used as a trigger to make sure that the callback doesn't
    # try and connect to the database until after the submit button
    # is pressed. Otherwise, every time a character was added to the 
    # username or password field, an attempt would be made to connect to 
    # the daabase with an incorrect username and password.
    if n_clicks > 0:
        ###########################
        # Data Manipulation / Model
        # use CRUD module to access MongoDB
        ##########################
        
        # Use the URLLIB to setup the username and password so that they
        # can be passed cleanly to the MongoDB handler.
        username = urllib.parse.quote_plus(inputUser)
        password = urllib.parse.quote_plus(inputPass)
        
        ## DEBUG STATEMENT - You can uncomment the next line to verify you
        ## are correctly entering your username and password prior to continuing
        ## to build the callback function.
        ## return f'Output: {inputUser}, {inputPass}'

        #TODO: Instantiate CRUD object with above authentication username and 
        # password values
        
        CRUD = AnimalShelter("aacuser", "SNHU1234")

        #TODO: Return example query results. Note: The results returned have
        # to be in the format of a string in order to display properly in the 
        # 'query-out' element. Please separate each result with a newline for
        # readability
        
        result = ""
        readResult = CRUD.read({"animal_type" : "Dog","name" : "Lucy"})
        for r in readResult:
            result = result + str(r) + "\n"
            return result
        
# Run app and display result inline in the notebook
app.run_server()
