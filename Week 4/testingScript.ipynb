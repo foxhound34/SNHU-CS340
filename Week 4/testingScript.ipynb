from animalShelter import AnimalShelter

CRUD = AnimalShelter("aacuser", "SNHU1234")

create = CRUD.create({
    "name" : "Stitch",
    "animal_type":"Dog",
    "breed":"Beagle",
    "color":"Tri",
    "age_upon_outcome":"1.5 years",
    "datetime":"2019-12-18 05:00:00",
    "monthyear":"2019-12-18T05:00:00",
    "outcome_type":"Adoption",
    "sex_upon_outcome":"Neutered",
    "age_of_outcome_in_weeks":78.063392857143
})

print(create)

#Invalid Index Creation
create_invalid = CRUD.create({"address"})

#Query for created index
readResult = CRUD.read({"name": "Stitch"})
#could not get the for loop to work in this assignment
print(readResult)

#Invalid Query prints an empty list
query = CRUD.read({"name":"Drax"})
print(query)

#Uses two arguments the first will be used to search for the proper index and the second will be used to update
update = CRUD.update({"name":"Stitch"},{"breed": "Horse"})

readResult = CRUD.read({"name": "Stitch"})
print(readResult)

# Deletes the index we are looking for and returns an empty list
deleted = CRUD.delete({"name": "Stitch"})

readResult = CRUD.read({"name": "Stitch"})
print(readResult)
