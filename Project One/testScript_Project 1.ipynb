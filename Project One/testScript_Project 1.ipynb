{
 "cells": [
  {
   "cell_type": "code",
   "execution_count": 1,
   "id": "81a079c3",
   "metadata": {
    "scrolled": true
   },
   "outputs": [
    {
     "name": "stdout",
     "output_type": "stream",
     "text": [
      "Connection Successful\n",
      "True\n"
     ]
    }
   ],
   "source": [
    "from animalShelter import AnimalShelter\n",
    "\n",
    "CRUD = AnimalShelter(\"aacuser\", \"SNHU1234\")\n",
    "\n",
    "create = CRUD.create({\n",
    "    \"name\" : \"Stitch\",\n",
    "    \"animal_type\":\"Dog\",\n",
    "    \"breed\":\"Beagle\",\n",
    "    \"color\":\"Tri\",\n",
    "    \"age_upon_outcome\":\"1.5 years\",\n",
    "    \"datetime\":\"2019-12-18 05:00:00\",\n",
    "    \"monthyear\":\"2019-12-18T05:00:00\",\n",
    "    \"outcome_type\":\"Adoption\",\n",
    "    \"sex_upon_outcome\":\"Neutered\",\n",
    "    \"age_of_outcome_in_weeks\":78.063392857143\n",
    "})\n",
    "\n",
    "print(create)"
   ]
  },
  {
   "cell_type": "code",
   "execution_count": 2,
   "id": "bd687018",
   "metadata": {},
   "outputs": [
    {
     "name": "stdout",
     "output_type": "stream",
     "text": [
      "An exception occurred :: document must be an instance of dict, bson.son.SON, bson.raw_bson.RawBSONDocument, or a type that inherits from collections.MutableMapping\n"
     ]
    }
   ],
   "source": [
    "#Invalid Index Creation\n",
    "create_invalid = CRUD.create({\"address\"})"
   ]
  },
  {
   "cell_type": "code",
   "execution_count": 3,
   "id": "178540eb",
   "metadata": {
    "scrolled": false
   },
   "outputs": [
    {
     "name": "stdout",
     "output_type": "stream",
     "text": [
      "[{'_id': ObjectId('6477bd9da78d58a9c7d964db'), 'name': 'Stitch', 'animal_type': 'Dog', 'breed': 'Beagle', 'color': 'Tri', 'age_upon_outcome': '1.5 years', 'datetime': '2019-12-18 05:00:00', 'monthyear': '2019-12-18T05:00:00', 'outcome_type': 'Adoption', 'sex_upon_outcome': 'Neutered', 'age_of_outcome_in_weeks': 78.063392857143}]\n"
     ]
    }
   ],
   "source": [
    "#Query for created index\n",
    "readResult = CRUD.read({\"name\": \"Stitch\"})\n",
    "#could not get the for loop to work in this assignment\n",
    "print(readResult)\n"
   ]
  },
  {
   "cell_type": "code",
   "execution_count": 4,
   "id": "a9a5f7d1",
   "metadata": {},
   "outputs": [
    {
     "name": "stdout",
     "output_type": "stream",
     "text": [
      "[]\n"
     ]
    }
   ],
   "source": [
    "#Invalid Query prints an empty list\n",
    "query = CRUD.read({\"name\":\"Drax\"})\n",
    "print(query)"
   ]
  },
  {
   "cell_type": "code",
   "execution_count": 5,
   "id": "83a48194",
   "metadata": {},
   "outputs": [
    {
     "name": "stdout",
     "output_type": "stream",
     "text": [
      "An exception occurred :: filter must be an instance of dict, bson.son.SON, or any other type that inherits from collections.Mapping\n",
      "None\n"
     ]
    }
   ],
   "source": [
    "#Query Error Shows exception handling\n",
    "query = CRUD.read({\"Drax\"})\n",
    "print(query)"
   ]
  },
  {
   "cell_type": "code",
   "execution_count": 6,
   "id": "2a995c5c",
   "metadata": {},
   "outputs": [
    {
     "name": "stdout",
     "output_type": "stream",
     "text": [
      "[{'_id': ObjectId('6477bd9da78d58a9c7d964db'), 'name': 'Stitch', 'animal_type': 'Dog', 'breed': 'Horse', 'color': 'Tri', 'age_upon_outcome': '1.5 years', 'datetime': '2019-12-18 05:00:00', 'monthyear': '2019-12-18T05:00:00', 'outcome_type': 'Adoption', 'sex_upon_outcome': 'Neutered', 'age_of_outcome_in_weeks': 78.063392857143}]\n"
     ]
    }
   ],
   "source": [
    "#Uses two arguments the first will be used to search for the proper index and the second will be used to update\n",
    "update = CRUD.update({\"name\":\"Stitch\"},{\"breed\": \"Horse\"})\n",
    "\n",
    "readResult = CRUD.read({\"name\": \"Stitch\"})\n",
    "print(readResult)"
   ]
  },
  {
   "cell_type": "code",
   "execution_count": 7,
   "id": "7bbed198",
   "metadata": {},
   "outputs": [
    {
     "name": "stdout",
     "output_type": "stream",
     "text": [
      "[]\n"
     ]
    }
   ],
   "source": [
    "# Deletes the index we are looking for and returns an empty list\n",
    "deleted = CRUD.delete({\"name\": \"Stitch\"})\n",
    "\n",
    "readResult = CRUD.read({\"name\": \"Stitch\"})\n",
    "print(readResult)"
   ]
  }
 ],
 "metadata": {
  "kernelspec": {
   "display_name": "Python 3 (ipykernel)",
   "language": "python",
   "name": "python3"
  },
  "language_info": {
   "codemirror_mode": {
    "name": "ipython",
    "version": 3
   },
   "file_extension": ".py",
   "mimetype": "text/x-python",
   "name": "python",
   "nbconvert_exporter": "python",
   "pygments_lexer": "ipython3",
   "version": "3.9.12"
  }
 },
 "nbformat": 4,
 "nbformat_minor": 5
}
